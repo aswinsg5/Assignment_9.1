{
 "cells": [
  {
   "cell_type": "markdown",
   "metadata": {},
   "source": [
    "# Task 1:\n",
    "### 1. You survey households in your area to find the average rent they are paying. Find the standard deviation from the following data:\n",
    "$1550, $1700, $900, $850, $1000, $950."
   ]
  },
  {
   "cell_type": "code",
   "execution_count": 1,
   "metadata": {},
   "outputs": [],
   "source": [
    "import numpy as np"
   ]
  },
  {
   "cell_type": "code",
   "execution_count": 3,
   "metadata": {},
   "outputs": [
    {
     "name": "stdout",
     "output_type": "stream",
     "text": [
      "Average rent paid by households is :1158.33 \n",
      "Standard deviation of the rent paid is : 335.93\n"
     ]
    }
   ],
   "source": [
    "# sample data\n",
    "X=[1550,1700,900,850,1000,950]\n",
    "# mean of the sample dataset\n",
    "mean= np.mean(X)\n",
    "# standard deviation of the dataset\n",
    "std_dev= np.std(X)\n",
    "print(\"Average rent paid by households is :{:0.2f} \".format(mean))\n",
    "print(\"Standard deviation of the rent paid is : {:0.2f}\".format(std_dev))"
   ]
  },
  {
   "cell_type": "markdown",
   "metadata": {},
   "source": [
    "### 2. Find the variance for the following set of data representing trees in California (heights in feet):\n",
    "3, 21, 98, 203, 17, 9"
   ]
  },
  {
   "cell_type": "code",
   "execution_count": 4,
   "metadata": {},
   "outputs": [
    {
     "name": "stdout",
     "output_type": "stream",
     "text": [
      "Variance of the dataset id :5183.25\n"
     ]
    }
   ],
   "source": [
    "#sample data\n",
    "X=[3,21,98,203,17,9]\n",
    "\n",
    "# varianceof explians the spread of the data\n",
    "var_X=np.var(X)\n",
    "\n",
    "print(\"Variance of the dataset id :{:0.2f}\".format(var_X))"
   ]
  },
  {
   "cell_type": "markdown",
   "metadata": {},
   "source": [
    "### 3. In a class on 100 students, 80 students passed in all subjects, 10 failed in one subject, 7 failedin two subjects and 3 failed in three subjects. Find the probability distribution of the variable for number of subjects a student from the given class has failed in."
   ]
  },
  {
   "cell_type": "code",
   "execution_count": 8,
   "metadata": {},
   "outputs": [
    {
     "name": "stdout",
     "output_type": "stream",
     "text": [
      "Probablity of failing in one subject is:0.10\n",
      "Probablity of failing in two subject is:0.07\n",
      "Probablity of failing in three subject is:0.03\n"
     ]
    }
   ],
   "source": [
    "#Total students \n",
    "n =100\n",
    "# total passed\n",
    "passed=80\n",
    "# failed in one subject\n",
    "failed_one= 10\n",
    "# failed in two subject\n",
    "failed_two=7\n",
    "# failed in three\n",
    "failed_three=3\n",
    "\n",
    "# Probability of failing in one subject P(x=10)\n",
    "prob_failed_1= failed_one/n\n",
    "print(\"Probablity of failing in one subject is:{:0.2f}\".format(prob_failed_1))\n",
    "# Probability of failing in one subject P(x=10)\n",
    "prob_failed_2= failed_two/n\n",
    "print(\"Probablity of failing in two subject is:{:0.2f}\".format(prob_failed_2))\n",
    "# Probability of failing in one subject P(x=10)\n",
    "prob_failed_3= failed_three/n\n",
    "print(\"Probablity of failing in three subject is:{:0.2f}\".format(prob_failed_3))\n"
   ]
  },
  {
   "cell_type": "markdown",
   "metadata": {},
   "source": [
    "# Task 2:\n",
    "### 1. A test is conducted which is consisting of 20 MCQs (multiple choices questions) with everyMCQ having its four options out of which only one is correct. Determine the probability that aperson undertaking that test has answered exactly 5 questions wrong."
   ]
  },
  {
   "cell_type": "code",
   "execution_count": 17,
   "metadata": {},
   "outputs": [
    {
     "name": "stdout",
     "output_type": "stream",
     "text": [
      "Probability of exactly 5 out of 20 answers incorrect is 0.0000034\n"
     ]
    }
   ],
   "source": [
    "import math\n",
    "from scipy.special import factorial\n",
    "#total MCQ\n",
    "n=20\n",
    "#out of 20, 5 are wrong so 15 are right. Since we want to determine the probablity of exactly 5 question wrong\n",
    "k=5\n",
    "#probablity_of_getting question right= only one answer is correct out of four\n",
    "correct=1/4\n",
    "#probablity_of_getting question wrong= any answer except correct one.\n",
    "incorrect=3/4\n",
    "\n",
    "# this is Binomial distribution problem so we'll use probablity density function for binomial distribution\n",
    "#P(x=5)=20C5* (correct)^5 * (incorrect)* 15\n",
    "P= (factorial(n)/(factorial(k)* factorial(n-k))) * np.power(correct,n-k) * np.power(incorrect,k)\n",
    "print(\"Probability of exactly 5 out of 20 answers incorrect is {:0.7f}\".format(P))\n",
    "\n"
   ]
  },
  {
   "cell_type": "markdown",
   "metadata": {},
   "source": [
    "### 2. A die marked A to E is rolled 50 times. Find the probability of getting a “D” exactly 5 times.\n",
    "\n"
   ]
  },
  {
   "cell_type": "code",
   "execution_count": 28,
   "metadata": {},
   "outputs": [
    {
     "name": "stdout",
     "output_type": "stream",
     "text": [
      "Probability of getting D out of 50 trials is 0.0295\n"
     ]
    }
   ],
   "source": [
    "# In an experiment number of trials attempted and there will be success and failures.\n",
    "# attempts denoted as n, success as k and failures as n-k \n",
    "n=50\n",
    "k=5\n",
    "\n",
    "#from A to E there are 5 letters and probablity of getting any letter will be equal.\n",
    "success= 1/5\n",
    "failure= 1-success\n",
    "\n",
    "# using binomial probability distribution\n",
    "#P(x=5)=50C5* (correct)^5 * (incorrect)* 45\n",
    "P= (factorial(n)/(factorial(k)* factorial(n-k))) * np.power(success,k) * np.power(failure,n-k)\n",
    "print(\"Probability of getting D out of 50 trials is {:0.4f}\".format(P))\n"
   ]
  },
  {
   "cell_type": "markdown",
   "metadata": {},
   "source": [
    "### 3. Two balls are drawn at random in succession without replacement from an urn containing 4 red balls and 6 black balls.Find the probabilities of all the possible outcomes."
   ]
  },
  {
   "cell_type": "code",
   "execution_count": 35,
   "metadata": {},
   "outputs": [
    {
     "name": "stdout",
     "output_type": "stream",
     "text": [
      "Probablity of getting both balls red consequtively is 0.13\n",
      "Probablity of getting one red and then black consequtively is 0.27\n",
      "Probablity of getting one black and then red consequtively is 0.27\n",
      "Probablity of getting both balls black consequtively is 0.33\n"
     ]
    }
   ],
   "source": [
    "#finding all possibilities: \n",
    "#1. both balls are red: P(R,R) \n",
    "#2. first ball is Red and second is Black: P(R,B)  \n",
    "#3. first ball is Black and second is  red: P(B,R)\n",
    "#4. Both are black: P(B,B)\n",
    "red=4\n",
    "black=6\n",
    "n=red+black\n",
    "\n",
    "\n",
    "#probablity of getting both ball red(if one takes red ball out and without replacement again takes one more red)\n",
    "P_RR= red/n * (red-1)/(n-1)\n",
    "print(\"Probablity of getting both balls red consequtively is {:0.2f}\".format(P_RR))\n",
    "#probablity of getting one ball red and second ball black(if one takes red ball out and without replacement again takes black\n",
    "P_RB= red/n * (black/(n-1))\n",
    "print(\"Probablity of getting one red and then black consequtively is {:0.2f}\".format(P_RB))\n",
    "\n",
    "#probablity of getting one ball black  and second red(if one takes black ball out and without replacement again takes red\n",
    "P_BR= black/n * (red/(n-1))\n",
    "print(\"Probablity of getting one black and then red consequtively is {:0.2f}\".format(P_BR))\n",
    "\n",
    "#probablity of getting both of the balls black(if one takes black ball out and without replacement again takes black\n",
    "P_BB=black/n * (black-1)/(n-1)\n",
    "print(\"Probablity of getting both balls black consequtively is {:0.2f}\".format(P_BB))\n"
   ]
  },
  {
   "cell_type": "code",
   "execution_count": null,
   "metadata": {},
   "outputs": [],
   "source": []
  }
 ],
 "metadata": {
  "kernelspec": {
   "display_name": "Python 3",
   "language": "python",
   "name": "python3"
  },
  "language_info": {
   "codemirror_mode": {
    "name": "ipython",
    "version": 3
   },
   "file_extension": ".py",
   "mimetype": "text/x-python",
   "name": "python",
   "nbconvert_exporter": "python",
   "pygments_lexer": "ipython3",
   "version": "3.6.4"
  }
 },
 "nbformat": 4,
 "nbformat_minor": 2
}
